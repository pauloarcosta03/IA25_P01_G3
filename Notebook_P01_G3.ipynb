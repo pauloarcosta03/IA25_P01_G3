{
  "cells": [
    {
      "cell_type": "markdown",
      "metadata": {
        "id": "imwZr5D-v8WM"
      },
      "source": [
        "# Introdução\n",
        "\n",
        "Este notebook visa apresentar o desenvolvimento realizado pelo Grupo 3 - composto por Tiago Sousa (20735) , Rodrigo Castro (23143), Rogério Gomes (27216), Paulo Costa (29851) e Laís Carvalho (51067) - no âmbito do trabalho prático “Project 01” da disciplina de Inteligêncial Artificial.\n",
        "\n",
        "O projeto tem como objetivo a criação de um agente inteligente capaz de funcionar como gestor de horários de aulas para cursos de graduação numa instituição de ensino superior, considerando todas as restrições e condições que possam existir no processo de alocação de horas.\n",
        "\n",
        "\n",
        "\n",
        "\n"
      ]
    },
    {
      "cell_type": "markdown",
      "metadata": {},
      "source": [
        "## Agent Design\n"
      ]
    },
    {
      "cell_type": "code",
      "execution_count": null,
      "metadata": {
        "id": "vPqXflPwksi_"
      },
      "outputs": [],
      "source": [
        "# instatiate the problem\n",
        "problem = Problem()\n",
        "\n",
        "# add variables\n",
        "problem.addVariable('x', [1,2,3])\n",
        "problem.addVariable('y', range(10))\n",
        "\n",
        "# define and add constraints\n",
        "#Constraints\n",
        "#— Professor cannot have 2 classes at the same time\n",
        "#— Courses cannot have 2 classes at the same time\n",
        "#— Classrooms cannot have 2 classes at the same time\n",
        "def our_constraint(x, y):\n",
        "    if x + y >= 9:\n",
        "        return True\n",
        "\n",
        "problem.addConstraint(our_constraint, ['x','y'])\n",
        "\n",
        "# You can just get the first solution to be found\n",
        "# solution = problem.getSolution()\n",
        "# print(solution)\n",
        "\n",
        "\n",
        "# Get all the solutions.\n",
        "solutions = problem.getSolutions()\n",
        "\n",
        "# Easier way to print and see all solutions\n",
        "for solution in solutions:\n",
        "  print(solution)\n",
        "\n",
        "# Prettier way to print and see all solutions\n",
        "# length = len(solutions)\n",
        "# print(\"(x,y) ∈ {\", end=\"\")\n",
        "# for index, solution in enumerate(solutions):\n",
        "#     if index == length - 1:\n",
        "#         print(\"({},{})\".format(solution['x'], solution['y']), end=\"\")\n",
        "#     else:\n",
        "#         print(\"({},{}),\".format(solution['x'], solution['y']), end=\"\")\n",
        "# print(\"}\")"
      ]
    }
  ],
  "metadata": {
    "colab": {
      "provenance": []
    },
    "kernelspec": {
      "display_name": "Python 3",
      "language": "python",
      "name": "python3"
    },
    "language_info": {
      "codemirror_mode": {
        "name": "ipython",
        "version": 3
      },
      "file_extension": ".py",
      "mimetype": "text/x-python",
      "name": "python",
      "nbconvert_exporter": "python",
      "pygments_lexer": "ipython3",
      "version": "3.10.7"
    }
  },
  "nbformat": 4,
  "nbformat_minor": 0
}
