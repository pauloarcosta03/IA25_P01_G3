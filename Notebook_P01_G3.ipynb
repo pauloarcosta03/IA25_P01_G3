{
  "cells": [
    {
      "cell_type": "markdown",
      "metadata": {
        "id": "imwZr5D-v8WM"
      },
      "source": [
        "# Introdução\n",
        "\n",
        "Este notebook visa apresentar o desenvolvimento realizado pelo Grupo 3 - composto por Tiago Sousa (20735) , Rodrigo Castro (23143), Rogério Gomes (27216), Paulo Costa (29851) e Laís Carvalho (51067) - no âmbito do trabalho prático “Project 01” da disciplina de Inteligêncial Artificial.\n",
        "\n",
        "O projeto tem como objetivo a criação de um agente inteligente capaz de funcionar como gestor de horários de aulas para cursos de graduação numa instituição de ensino superior, considerando todas as restrições e condições que possam existir no processo de alocação de horas.\n",
        "\n",
        "O problema de agendamento é resolvido utilizando programção de restrições (CSP).\n"
      ]
    },
    {
      "cell_type": "code",
      "execution_count": 6,
      "metadata": {},
      "outputs": [
        {
          "name": "stdout",
          "output_type": "stream",
          "text": [
            "Requirement already satisfied: python-constraint in c:\\users\\paulo\\appdata\\local\\packages\\pythonsoftwarefoundation.python.3.11_qbz5n2kfra8p0\\localcache\\local-packages\\python311\\site-packages (1.4.0)\n"
          ]
        },
        {
          "name": "stderr",
          "output_type": "stream",
          "text": [
            "\n",
            "[notice] A new release of pip is available: 24.0 -> 25.2\n",
            "[notice] To update, run: C:\\Users\\Paulo\\AppData\\Local\\Microsoft\\WindowsApps\\PythonSoftwareFoundation.Python.3.11_qbz5n2kfra8p0\\python.exe -m pip install --upgrade pip\n"
          ]
        }
      ],
      "source": [
        "# Install contraint library\n",
        "!pip install python-constraint\n",
        "\n",
        "# Import contraint library\n",
        "from constraint import *"
      ]
    },
    {
      "cell_type": "markdown",
      "metadata": {},
      "source": [
        "## Variáveis e Domínio"
      ]
    },
    {
      "cell_type": "code",
      "execution_count": 7,
      "metadata": {
        "id": "vPqXflPwksi_"
      },
      "outputs": [],
      "source": [
        "# instatiate the problem\n",
        "problem = Problem()\n",
        "\n",
        "# add variables\n",
        "problem.addVariable('uc11_t01_aula01', range(1,20))\n",
        "problem.addVariable('uc11_t01_aula02', range(1,20))\n",
        "\n",
        "problem.addVariable('uc12_t01_aula01', range(1,12))\n",
        "problem.addVariable('uc12_t01_aula02', range(1,12))\n",
        "\n",
        "problem.addVariable('uc13_t01_aula01', range(5,20))\n",
        "problem.addVariable('uc13_t01_aula02', range(5,20))\n",
        "\n",
        "problem.addVariable('uc14_t01_aula01', range(5,20))\n",
        "problem.addVariable('uc14_t01_aula02', range(5,20))\n",
        "\n",
        "problem.addVariable('uc15_t01_aula01', list(chain(range(1, 9), range(13, 17))))\n",
        "problem.addVariable('uc15_t01_aula02', list(chain(range(1, 9), range(13, 17))))\n",
        "\n",
        "problem.addVariable('uc21_t02_aula01', range(1,20))\n",
        "problem.addVariable('uc21_t02_aula02', range(1,20))\n",
        "\n",
        "problem.addVariable('uc22_t02_aula01', range(1,20))\n",
        "problem.addVariable('uc22_t02_aula02', range(1,20))\n",
        "\n",
        "problem.addVariable('uc23_t02_aula01', range(1,12))\n",
        "problem.addVariable('uc23_t02_aula02', range(1,12))\n",
        "\n",
        "problem.addVariable('uc24_t02_aula01', range(5,20))\n",
        "problem.addVariable('uc24_t02_aula02', range(5,20))\n",
        "\n",
        "problem.addVariable('uc25_t02_aula01', list(chain(range(1, 9), range(13, 17))))\n",
        "problem.addVariable('uc25_t02_aula02', list(chain(range(1, 9), range(13, 17))))\n",
        "\n",
        "problem.addVariable('uc31_t03_aula01', range(1,20))\n",
        "problem.addVariable('uc31_t03_aula02', range(1,20))\n",
        "\n",
        "problem.addVariable('uc32_t03_aula01', range(1,12))\n",
        "problem.addVariable('uc32_t03_aula02', range(1,12))\n",
        "\n",
        "problem.addVariable('uc33_t03_aula01', range(5,20))\n",
        "problem.addVariable('uc33_t03_aula02', range(5,20))\n",
        "\n",
        "problem.addVariable('uc34_t03_aula01', list(chain(range(1, 9), range(13, 17))))\n",
        "problem.addVariable('uc34_t03_aula02', list(chain(range(1, 9), range(13, 17))))\n",
        "\n",
        "problem.addVariable('uc35_t03_aula01', list(chain(range(1, 9), range(13, 17))))\n",
        "problem.addVariable('uc35_t03_aula02', list(chain(range(1, 9), range(13, 17))))\n"
      ]
    },
    {
      "cell_type": "markdown",
      "metadata": {},
      "source": [
        "# Restrições \n",
        "\n",
        " --- FUNÇÕES AUXILIARES ---"
      ]
    },
    {
      "cell_type": "code",
      "execution_count": 8,
      "metadata": {},
      "outputs": [],
      "source": [
        "from constraint import *\n",
        "from itertools import chain\n",
        "\n",
        "def get_day(slot):\n",
        "    \"\"\"Retorna o dia correspondente (1–5) para o slot (1–20).\"\"\"\n",
        "    return (slot - 1) // 4 + 1\n",
        "\n",
        "def get_block(slot):\n",
        "    \"\"\"Retorna o bloco (1–4) dentro do dia.\"\"\"\n",
        "    return (slot - 1) % 4 + 1"
      ]
    },
    {
      "cell_type": "markdown",
      "metadata": {},
      "source": [
        " --- RESTRIÇÕES ---\n",
        "\n",
        " 1- Professor não pode ter 2 aulas ao mesmo tempo"
      ]
    },
    {
      "cell_type": "code",
      "execution_count": 9,
      "metadata": {},
      "outputs": [],
      "source": [
        "teacher_courses = {\n",
        "    \"jo\":  [\"uc11_t01\", \"uc21_t02\", \"uc22_t02\", \"uc31_t03\"],\n",
        "    \"mike\":[\"uc12_t01\", \"uc23_t02\", \"uc32_t03\"],\n",
        "    \"rob\": [\"uc13_t01\", \"uc14_t01\", \"uc24_t02\", \"uc33_t03\"],\n",
        "    \"sue\": [\"uc15_t01\", \"uc25_t02\", \"uc34_t03\", \"uc35_t03\"]\n",
        "}\n",
        "\n",
        "def teacher_conflict(a, b):\n",
        "    return a != b  # não pode ter o mesmo slot\n",
        "\n",
        "for teacher, cursos in teacher_courses.items():\n",
        "    for i in range(len(cursos)):\n",
        "        for j in range(i + 1, len(cursos)):\n",
        "            problem.addConstraint(teacher_conflict, [f\"{cursos[i]}_aula01\", f\"{cursos[j]}_aula01\"])\n",
        "            problem.addConstraint(teacher_conflict, [f\"{cursos[i]}_aula01\", f\"{cursos[j]}_aula02\"])\n",
        "            problem.addConstraint(teacher_conflict, [f\"{cursos[i]}_aula02\", f\"{cursos[j]}_aula01\"])\n",
        "            problem.addConstraint(teacher_conflict, [f\"{cursos[i]}_aula02\", f\"{cursos[j]}_aula02\"])\n",
        "\n"
      ]
    },
    {
      "cell_type": "markdown",
      "metadata": {},
      "source": [
        "2- As duas aulas do mesmo curso não podem ser no mesmo slot"
      ]
    },
    {
      "cell_type": "code",
      "execution_count": 10,
      "metadata": {},
      "outputs": [],
      "source": [
        "\n",
        "def different_times(a, b):\n",
        "    return a != b\n",
        "\n",
        "for c in [\n",
        "    \"uc11_t01\", \"uc12_t01\", \"uc13_t01\", \"uc14_t01\", \"uc15_t01\",\n",
        "    \"uc21_t02\", \"uc22_t02\", \"uc23_t02\", \"uc24_t02\", \"uc25_t02\",\n",
        "    \"uc31_t03\", \"uc32_t03\", \"uc33_t03\", \"uc34_t03\", \"uc35_t03\"\n",
        "]:\n",
        "    problem.addConstraint(different_times, [f\"{c}_aula01\", f\"{c}_aula02\"])\n",
        "\n"
      ]
    },
    {
      "cell_type": "markdown",
      "metadata": {},
      "source": [
        "3- As duas aulas da mesma cadeira devem ser em dias diferentes"
      ]
    },
    {
      "cell_type": "code",
      "execution_count": 11,
      "metadata": {},
      "outputs": [],
      "source": [
        "\n",
        "def different_days(a, b):\n",
        "    return get_day(a) != get_day(b)\n",
        "\n",
        "for c in [\n",
        "    \"uc11_t01\", \"uc12_t01\", \"uc13_t01\", \"uc14_t01\", \"uc15_t01\",\n",
        "    \"uc21_t02\", \"uc22_t02\", \"uc23_t02\", \"uc24_t02\", \"uc25_t02\",\n",
        "    \"uc31_t03\", \"uc32_t03\", \"uc33_t03\", \"uc34_t03\", \"uc35_t03\"\n",
        "]:\n",
        "    problem.addConstraint(different_days, [f\"{c}_aula01\", f\"{c}_aula02\"])\n",
        "\n"
      ]
    },
    {
      "cell_type": "markdown",
      "metadata": {},
      "source": [
        "4- Cada turma deve ter aulas distribuídas por no máximo 4 dias"
      ]
    },
    {
      "cell_type": "code",
      "execution_count": 12,
      "metadata": {},
      "outputs": [],
      "source": [
        "\n",
        "turmas = {\n",
        "    \"t01\": [\"uc11_t01\", \"uc12_t01\", \"uc13_t01\", \"uc14_t01\", \"uc15_t01\"],\n",
        "    \"t02\": [\"uc21_t02\", \"uc22_t02\", \"uc23_t02\", \"uc24_t02\", \"uc25_t02\"],\n",
        "    \"t03\": [\"uc31_t03\", \"uc32_t03\", \"uc33_t03\", \"uc34_t03\", \"uc35_t03\"]\n",
        "}\n",
        "\n",
        "def max_four_days(*args):\n",
        "    dias = {get_day(x) for x in args}\n",
        "    return len(dias) <= 4\n",
        "\n",
        "for t, cursos in turmas.items():\n",
        "    all_lessons = [f\"{c}_aula01\" for c in cursos] + [f\"{c}_aula02\" for c in cursos]\n",
        "    problem.addConstraint(max_four_days, all_lessons)\n",
        "\n"
      ]
    },
    {
      "cell_type": "markdown",
      "metadata": {},
      "source": [
        "\n",
        "5- As aulas da mesma turma no mesmo dia devem ser em blocos consecutivos"
      ]
    },
    {
      "cell_type": "code",
      "execution_count": 13,
      "metadata": {},
      "outputs": [],
      "source": [
        "\n",
        "def consecutive_blocks(*args):\n",
        "    aulas_por_dia = {}\n",
        "    for a in args:\n",
        "        dia = get_day(a)\n",
        "        bloco = get_block(a)\n",
        "        aulas_por_dia.setdefault(dia, []).append(bloco)\n",
        "    for blocos in aulas_por_dia.values():\n",
        "        blocos.sort()\n",
        "        for i in range(1, len(blocos)):\n",
        "            if blocos[i] - blocos[i - 1] > 1:\n",
        "                return False\n",
        "    return True\n",
        "\n",
        "for t, cursos in turmas.items():\n",
        "    all_lessons = [f\"{c}_aula01\" for c in cursos] + [f\"{c}_aula02\" for c in cursos]\n",
        "    problem.addConstraint(consecutive_blocks, all_lessons)\n",
        "\n",
        "\n",
        "# 6️⃣ (Opcional Soft) Minimizar número de salas diferentes por turma\n",
        "# Aqui simulamos como \"máx. 3 dias distintos de slots\" → aproximado\n",
        "# Se fores adicionar salas depois, podes trocar esta função.\n",
        "\n"
      ]
    },
    {
      "cell_type": "markdown",
      "metadata": {},
      "source": [
        "# Solução do problema"
      ]
    },
    {
      "cell_type": "code",
      "execution_count": 14,
      "metadata": {},
      "outputs": [
        {
          "name": "stdout",
          "output_type": "stream",
          "text": [
            "\n",
            "--- Solução encontrada ---\n",
            "uc11_t01_aula01: Dia 5, Bloco 3\n",
            "uc11_t01_aula02: Dia 4, Bloco 4\n",
            "uc12_t01_aula01: Dia 3, Bloco 3\n",
            "uc12_t01_aula02: Dia 2, Bloco 4\n",
            "uc13_t01_aula01: Dia 5, Bloco 3\n",
            "uc13_t01_aula02: Dia 4, Bloco 4\n",
            "uc14_t01_aula01: Dia 5, Bloco 2\n",
            "uc14_t01_aula02: Dia 4, Bloco 3\n",
            "uc15_t01_aula01: Dia 4, Bloco 4\n",
            "uc15_t01_aula02: Dia 2, Bloco 4\n",
            "uc21_t02_aula01: Dia 5, Bloco 2\n",
            "uc21_t02_aula02: Dia 4, Bloco 3\n",
            "uc22_t02_aula01: Dia 5, Bloco 1\n",
            "uc22_t02_aula02: Dia 4, Bloco 2\n",
            "uc23_t02_aula01: Dia 3, Bloco 2\n",
            "uc23_t02_aula02: Dia 2, Bloco 3\n",
            "uc24_t02_aula01: Dia 5, Bloco 1\n",
            "uc24_t02_aula02: Dia 4, Bloco 2\n",
            "uc25_t02_aula01: Dia 4, Bloco 3\n",
            "uc25_t02_aula02: Dia 2, Bloco 3\n",
            "uc31_t03_aula01: Dia 4, Bloco 1\n",
            "uc31_t03_aula02: Dia 3, Bloco 4\n",
            "uc32_t03_aula01: Dia 2, Bloco 2\n",
            "uc32_t03_aula02: Dia 1, Bloco 4\n",
            "uc33_t03_aula01: Dia 4, Bloco 1\n",
            "uc33_t03_aula02: Dia 3, Bloco 4\n",
            "uc34_t03_aula01: Dia 4, Bloco 2\n",
            "uc34_t03_aula02: Dia 2, Bloco 2\n",
            "uc35_t03_aula01: Dia 4, Bloco 1\n",
            "uc35_t03_aula02: Dia 2, Bloco 1\n"
          ]
        }
      ],
      "source": [
        "\n",
        "# --- EXECUÇÃO ---\n",
        "solution = problem.getSolution()\n",
        "print(\"\\n--- Solução encontrada ---\")\n",
        "for var, slot in sorted(solution.items()):\n",
        "    dia = (slot - 1)//4 + 1\n",
        "    bloco = (slot - 1)%4 + 1\n",
        "    print(f\"{var}: Dia {dia}, Bloco {bloco}\")"
      ]
    }
  ],
  "metadata": {
    "colab": {
      "provenance": []
    },
    "kernelspec": {
      "display_name": "Python 3",
      "language": "python",
      "name": "python3"
    },
    "language_info": {
      "codemirror_mode": {
        "name": "ipython",
        "version": 3
      },
      "file_extension": ".py",
      "mimetype": "text/x-python",
      "name": "python",
      "nbconvert_exporter": "python",
      "pygments_lexer": "ipython3",
      "version": "3.11.9"
    }
  },
  "nbformat": 4,
  "nbformat_minor": 0
}
